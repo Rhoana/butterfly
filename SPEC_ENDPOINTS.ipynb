{
 "cells": [
  {
   "cell_type": "code",
   "execution_count": 1,
   "metadata": {
    "collapsed": false
   },
   "outputs": [],
   "source": [
    "import json\n",
    "import unqlite"
   ]
  },
  {
   "cell_type": "code",
   "execution_count": 2,
   "metadata": {
    "collapsed": true
   },
   "outputs": [],
   "source": [
    "DBPATH = '/tmp/test.db'"
   ]
  },
  {
   "cell_type": "code",
   "execution_count": 3,
   "metadata": {
    "collapsed": true
   },
   "outputs": [],
   "source": [
    "DATASET_PATH = '/home/d/bfly_data/pipelinetest/'"
   ]
  },
  {
   "cell_type": "code",
   "execution_count": 4,
   "metadata": {
    "collapsed": true
   },
   "outputs": [],
   "source": [
    "db = unqlite.UnQLite(DBPATH)"
   ]
  },
  {
   "cell_type": "code",
   "execution_count": 5,
   "metadata": {
    "collapsed": false
   },
   "outputs": [],
   "source": [
    "synapses = db.collection(DATASET_PATH+'_synapses')\n",
    "neurons = db.collection(DATASET_PATH+'_neurons')"
   ]
  },
  {
   "cell_type": "code",
   "execution_count": 6,
   "metadata": {
    "collapsed": true
   },
   "outputs": [],
   "source": [
    "with open(DATASET_PATH+'synapse-connections.json', 'r') as f:\n",
    "    input = json.load(f)"
   ]
  },
  {
   "cell_type": "code",
   "execution_count": null,
   "metadata": {
    "collapsed": true
   },
   "outputs": [],
   "source": []
  },
  {
   "cell_type": "code",
   "execution_count": 8,
   "metadata": {
    "collapsed": false
   },
   "outputs": [],
   "source": [
    "#\n",
    "# SAMPLE DATA\n",
    "#\n",
    "\n",
    "# here we re-create the data\n",
    "synapses.drop()\n",
    "synapses.create()\n",
    "\n",
    "neurons.drop()\n",
    "neurons.create()\n",
    "\n",
    "# wrangle data\n",
    "for i,n1 in enumerate(input['neuron_1']):\n",
    "    n2 = input['neuron_2'][i]\n",
    "    x = input['synapse_center']['x'][i]\n",
    "    y = input['synapse_center']['y'][i]\n",
    "    z = input['synapse_center']['z'][i]\n",
    "\n",
    "    # hack for neuron data\n",
    "    neuron = {\n",
    "        'id': n1,\n",
    "        'x': x,\n",
    "        'y': y,\n",
    "        'z': z\n",
    "    }\n",
    "    if not neurons.filter(lambda n: (n['id']==neuron['id'])):\n",
    "        neurons.store(neuron)\n",
    "    neuron = {\n",
    "        'id': n2,\n",
    "        'x': x,\n",
    "        'y': y,\n",
    "        'z': z        \n",
    "    }\n",
    "    if not neurons.filter(lambda n: (n['id']==neuron['id'])):\n",
    "        neurons.store(neuron)\n",
    "    \n",
    "    synapses.store({\n",
    "        'presynaptic_neuron': n1,\n",
    "        'postsynaptic_neuron': n2,\n",
    "        'x': x,\n",
    "        'y': y,\n",
    "        'z': z\n",
    "    })\n",
    "    \n",
    "\n",
    "# store to file\n",
    "db.close()"
   ]
  },
  {
   "cell_type": "code",
   "execution_count": null,
   "metadata": {
    "collapsed": true
   },
   "outputs": [],
   "source": []
  },
  {
   "cell_type": "code",
   "execution_count": null,
   "metadata": {
    "collapsed": true
   },
   "outputs": [],
   "source": [
    "#### DENSE NEUROANATOMY ICD ENDPOINTS"
   ]
  },
  {
   "cell_type": "code",
   "execution_count": 76,
   "metadata": {
    "collapsed": false
   },
   "outputs": [
    {
     "name": "stdout",
     "output_type": "stream",
     "text": [
      "['s0', 's1', 's2', 's3', 's7', 's8', 's9', 's13', 's14', 's15', 's17', 's18', 's20', 's21', 's22', 's29', 's31', 's38', 's39', 's40', 's41', 's42', 's44', 's45']\n"
     ]
    }
   ],
   "source": [
    "#\n",
    "# S2: get all synapse labels in region (BASED ON CENTERPOINTS)\n",
    "#\n",
    "x0,y0,z0 = [0,0,0]\n",
    "x1,y1,z1 = [1024,1024,1024]\n",
    "\n",
    "filtered_synapses = synapses.filter(lambda s: (s['x']>=x0 and s['x']<=x1) and \n",
    "                                              (s['y']>=y0 and s['y']<=y1) and \n",
    "                                              (s['z']>=z0 and s['z']<=z1))\n",
    "\n",
    "synapse_ids = ['s'+str(s['__id']) for s in filtered_synapses]\n",
    "print synapse_ids"
   ]
  },
  {
   "cell_type": "code",
   "execution_count": 112,
   "metadata": {
    "collapsed": false
   },
   "outputs": [
    {
     "name": "stdout",
     "output_type": "stream",
     "text": [
      "['n9801', 'n9542', 'n7998', 'n389', 'n2814', 'n3826', 'n493', 'n557', 'n8526', 'n7855', 'n402', 'n4322', 'n4134', 'n7758', 'n533', 'n18', 'n5445', 'n13475', 'n471', 'n6487', 'n227', 'n10585', 'n404', 'n509', 'n265', 'n9224', 'n229', 'n6915', 'n85', 'n8454', 'n12164', 'n14', 'n3084', 'n8356', 'n15090']\n"
     ]
    }
   ],
   "source": [
    "#\n",
    "# S6: get all neuron labels in region (BASED ON CENTERPOINTS)\n",
    "#\n",
    "x0,y0,z0 = [0,0,0]\n",
    "x1,y1,z1 = [1024,1024,1024]\n",
    "\n",
    "filtered_neurons = neurons.filter(lambda n: (n['x']>=x0 and n['x']<=x1) and \n",
    "                                              (n['y']>=y0 and n['y']<=y1) and \n",
    "                                              (n['z']>=z0 and n['z']<=z1))\n",
    "\n",
    "neuron_ids = ['n'+str(n['id']) for n in filtered_neurons]\n",
    "print neuron_ids"
   ]
  },
  {
   "cell_type": "code",
   "execution_count": 113,
   "metadata": {
    "collapsed": true
   },
   "outputs": [],
   "source": [
    "#\n",
    "# S9: get voxel list\n",
    "#\n",
    "\n",
    "### TODO, probably some np.where calls in a scalable matter\n"
   ]
  },
  {
   "cell_type": "code",
   "execution_count": null,
   "metadata": {
    "collapsed": true
   },
   "outputs": [],
   "source": [
    "\n"
   ]
  },
  {
   "cell_type": "code",
   "execution_count": null,
   "metadata": {
    "collapsed": true
   },
   "outputs": [],
   "source": [
    "### SPARSE ANATOMICAL DB ENDPOINTS"
   ]
  },
  {
   "cell_type": "code",
   "execution_count": 73,
   "metadata": {
    "collapsed": false
   },
   "outputs": [
    {
     "name": "stdout",
     "output_type": "stream",
     "text": [
      "true\n"
     ]
    }
   ],
   "source": [
    "#\n",
    "# S1: ID is a synapse\n",
    "#\n",
    "SYNAPSE_ID = 's0'\n",
    "\n",
    "synapse = synapses.fetch(int(SYNAPSE_ID.strip('s')))\n",
    "is_synapse = (synapse != None)\n",
    "print str(is_synapse).lower()"
   ]
  },
  {
   "cell_type": "code",
   "execution_count": 69,
   "metadata": {
    "collapsed": false
   },
   "outputs": [
    {
     "name": "stdout",
     "output_type": "stream",
     "text": [
      "{'y': 341, 'x': 699, 'z': 31}\n"
     ]
    }
   ],
   "source": [
    "#\n",
    "# S3: synapse keypoint\n",
    "#\n",
    "SYNAPSE_ID = 's0'\n",
    "\n",
    "# sanity check\n",
    "synapse = synapses.fetch(int(SYNAPSE_ID.strip('s')))\n",
    "is_synapse = (synapse != None)\n",
    "\n",
    "if is_synapse:\n",
    "    output = {\n",
    "        'x': synapse['x'],\n",
    "        'y': synapse['y'],\n",
    "        'z': synapse['z']\n",
    "    }\n",
    "    \n",
    "    print output\n"
   ]
  },
  {
   "cell_type": "code",
   "execution_count": 75,
   "metadata": {
    "collapsed": false
   },
   "outputs": [
    {
     "name": "stdout",
     "output_type": "stream",
     "text": [
      "{'synapse_parent_pre': 'n9801', 'synapse_id': 's0', 'synapse_parent_post': 'n9542'}\n"
     ]
    }
   ],
   "source": [
    "#\n",
    "# S4: synapse parent\n",
    "#\n",
    "SYNAPSE_ID = 's0'\n",
    "\n",
    "\n",
    "# sanity check\n",
    "synapse = synapses.fetch(int(SYNAPSE_ID.strip('s')))\n",
    "is_synapse = (synapse != None)\n",
    "\n",
    "if is_synapse:\n",
    "    output = {\n",
    "        'synapse_id': 's'+str(synapse['__id']),\n",
    "        'synapse_parent_pre': 'n'+str(synapse['presynaptic_neuron']),\n",
    "        'synapse_parent_post': 'n'+str(synapse['postsynaptic_neuron']),\n",
    "    }\n",
    "    print output\n"
   ]
  },
  {
   "cell_type": "code",
   "execution_count": 126,
   "metadata": {
    "collapsed": false
   },
   "outputs": [
    {
     "name": "stdout",
     "output_type": "stream",
     "text": [
      "true\n"
     ]
    }
   ],
   "source": [
    "#\n",
    "# S5: ID is a neuron\n",
    "#\n",
    "NEURON_ID = 'n9801'\n",
    "\n",
    "neuron = neurons.filter(lambda n: n['id']==int(NEURON_ID.strip('n')))\n",
    "is_neuron = not not neuron\n",
    "print str(is_neuron).lower()"
   ]
  },
  {
   "cell_type": "code",
   "execution_count": 129,
   "metadata": {
    "collapsed": false
   },
   "outputs": [
    {
     "name": "stdout",
     "output_type": "stream",
     "text": [
      "{'y': 341, 'x': 699, 'z': 31}\n"
     ]
    }
   ],
   "source": [
    "#\n",
    "# S7: neuron keypoint\n",
    "#\n",
    "NEURON_ID = 'n9801'\n",
    "\n",
    "neuron = neurons.filter(lambda n: n['id']==int(NEURON_ID.strip('n')))\n",
    "is_neuron = not not neuron\n",
    "\n",
    "if is_neuron:\n",
    "    \n",
    "    output = {\n",
    "        'x': neuron[0]['x'],\n",
    "        'y': neuron[0]['y'],\n",
    "        'z': neuron[0]['z']\n",
    "    }\n",
    "    \n",
    "    print output"
   ]
  },
  {
   "cell_type": "code",
   "execution_count": 131,
   "metadata": {
    "collapsed": false
   },
   "outputs": [
    {
     "name": "stdout",
     "output_type": "stream",
     "text": [
      "['s0']\n"
     ]
    }
   ],
   "source": [
    "#\n",
    "# S8: neuron children (only presynaptic neurons?)\n",
    "#\n",
    "NEURON_ID = 'n9801'\n",
    "\n",
    "neuron_synapses = synapses.filter(lambda s: s['presynaptic_neuron']==int(NEURON_ID.strip('n')))\n",
    "valid_synapses = not not neuron_synapses\n",
    "\n",
    "if valid_synapses:\n",
    "    \n",
    "    output = ['s'+str(s['__id']) for s in neuron_synapses]\n",
    "    \n",
    "    print output"
   ]
  },
  {
   "cell_type": "code",
   "execution_count": null,
   "metadata": {
    "collapsed": true
   },
   "outputs": [],
   "source": []
  },
  {
   "cell_type": "code",
   "execution_count": null,
   "metadata": {
    "collapsed": true
   },
   "outputs": [],
   "source": []
  },
  {
   "cell_type": "code",
   "execution_count": null,
   "metadata": {
    "collapsed": true
   },
   "outputs": [],
   "source": []
  }
 ],
 "metadata": {
  "kernelspec": {
   "display_name": "Python 2",
   "language": "python",
   "name": "python2"
  },
  "language_info": {
   "codemirror_mode": {
    "name": "ipython",
    "version": 2
   },
   "file_extension": ".py",
   "mimetype": "text/x-python",
   "name": "python",
   "nbconvert_exporter": "python",
   "pygments_lexer": "ipython2",
   "version": "2.7.6"
  }
 },
 "nbformat": 4,
 "nbformat_minor": 2
}
